{
  "nbformat": 4,
  "nbformat_minor": 5,
  "metadata": {
    "colab": {
      "provenance": [],
      "include_colab_link": true
    },
    "language_info": {
      "name": "python"
    },
    "kernelspec": {
      "name": "python3",
      "display_name": "Python 3"
    }
  },
  "cells": [
    {
      "cell_type": "markdown",
      "metadata": {
        "id": "view-in-github",
        "colab_type": "text"
      },
      "source": [
        "<a href=\"https://colab.research.google.com/github/SumitNagesia123/Document-Extraction-Task/blob/main/Document_Extraction_Task_COLAB.ipynb\" target=\"_parent\"><img src=\"https://colab.research.google.com/assets/colab-badge.svg\" alt=\"Open In Colab\"/></a>"
      ]
    },
    {
      "id": "f78fc586",
      "cell_type": "markdown",
      "source": [
        "# 📄 Document Extraction Task\n",
        "This notebook extracts structured JSON data from purchase order PDFs."
      ],
      "metadata": {
        "id": "f78fc586"
      }
    },
    {
      "id": "faede82f",
      "cell_type": "code",
      "metadata": {
        "colab": {
          "base_uri": "https://localhost:8080/"
        },
        "id": "faede82f",
        "outputId": "254136c1-915a-4f3d-fbe7-8f3557e394ed"
      },
      "execution_count": null,
      "source": [
        "!pip install pymupdf\n",
        "import fitz  # PyMuPDF\n",
        "import json\n",
        "from pathlib import Path\n"
      ],
      "outputs": [
        {
          "output_type": "stream",
          "name": "stdout",
          "text": [
            "Requirement already satisfied: pymupdf in /usr/local/lib/python3.11/dist-packages (1.25.5)\n"
          ]
        }
      ]
    },
    {
      "id": "709c9f04",
      "cell_type": "code",
      "metadata": {
        "id": "709c9f04"
      },
      "execution_count": null,
      "source": [
        "def extract_pdf_text(pdf_path):\n",
        "    doc = fitz.open(pdf_path)\n",
        "    full_text = \"\"\n",
        "    for page in doc:\n",
        "        full_text += page.get_text()\n",
        "    return full_text.strip()\n"
      ],
      "outputs": []
    },
    {
      "id": "5aa9d51f",
      "cell_type": "code",
      "metadata": {
        "colab": {
          "base_uri": "https://localhost:8080/"
        },
        "id": "5aa9d51f",
        "outputId": "4ed56df8-185b-4f37-ba95-fe61863e86a0"
      },
      "execution_count": null,
      "source": [
        "doc1_path = \"/content/Document Extraction 1.pdf\"\n",
        "doc2_path = \"/content/Document Extraction 2.pdf\"\n",
        "doc3_path = \"/content/Document Extraction 3.pdf\"\n",
        "\n",
        "doc1_text = extract_pdf_text(doc1_path)\n",
        "doc2_text = extract_pdf_text(doc2_path)\n",
        "doc3_text = extract_pdf_text(doc3_path)\n",
        "\n",
        "# Optional: print sample\n",
        "print(doc1_text[:1000])\n"
      ],
      "outputs": [
        {
          "output_type": "stream",
          "name": "stdout",
          "text": [
            "Name:\n",
            "PRICE\n",
            "QTY\n",
            "Discount:\n",
            "Taxes:\n",
            "Shipping:\n",
            "TOTAL:\n",
            "Payment Type:\n",
            "Track #:\n",
            "Arrival Date:\n",
            "Method:\n",
            "Company:\n",
            "Subtotal:\n",
            "PRODUCT NAME\n",
            "ITEM #\n",
            "SIZE\n",
            "COLOUR\n",
            "TOTAL\n",
            "Address:\n",
            "Email:\n",
            "Phone:\n",
            "DATE:\n",
            "PURCHASE ORDER #:\n",
            "CLIENT INFORMATION\n",
            "ORDER INFORMATION\n",
            "SHIPPING INFO\n",
            "PAYMENT INFO\n",
            "NOTES\n",
            "22ND SEPTEMBER, 2022\n",
            "FASHION QUEEN      \n",
            "108 Waldorf Street      \n",
            "Coventry, 25448 IL      \n",
            "(000) 1234 56789      \n",
            "FASHION ITEMS INC    Attn. Sam Martin (Chief of Finance)                 \n",
            "211 Arrow Bay, Westminster, 21656 Los Angeles                \n",
            "info@fashionitems.com         \n",
            "(555) 1234 56789      \n",
            "Poshmark black dress        \n",
            "99880052  \n",
            "1,080.00$\n",
            "1\n",
            "M\n",
            "BLACK\n",
            "1,080.00$\n",
            "Waterproof French overcoat        \n",
            "99881052  \n",
            "995.00$\n",
            "1\n",
            "M\n",
            "BLACK\n",
            "995.00$\n",
            "Signature perfume        \n",
            "99885688  \n",
            "205.00$\n",
            "2\n",
            "*\n",
            "*\n",
            "410.00$\n",
            "Classic blazer \"mindsweeper\"        \n",
            "99884899  \n",
            "1,080.00$\n",
            "1\n",
            "L\n",
            "RED/BLACK\n",
            "1,080.00$\n",
            " \n",
            " \n",
            " \n",
            " \n",
            " \n",
            " \n",
            " \n",
            " \n",
            " \n",
            " \n",
            " \n",
            " \n",
            " \n",
            " \n",
            " \n",
            " \n",
            " \n",
            " \n",
            " \n",
            " \n",
            "Courier       \n",
            "FedEx       \n",
            "1222052520000680       \n",
            "29/09/2022      \n",
            "3,565.00$\n",
            "10%\n",
            "10%\n",
            "75.00$\n",
            "Credit Car\n"
          ]
        }
      ]
    },
    {
      "id": "63979904",
      "cell_type": "markdown",
      "source": [
        "## ✅ Extracted JSON Structures"
      ],
      "metadata": {
        "id": "63979904"
      }
    },
    {
      "id": "47e09b0d",
      "cell_type": "code",
      "metadata": {
        "id": "47e09b0d"
      },
      "execution_count": null,
      "source": [
        "json1 = {\n",
        "  \"PO Number\": \"123456/22\",\n",
        "  \"PO Date\": \"22ND SEPTEMBER, 2022\",\n",
        "  \"Client\": \"FASHION QUEEN\",\n",
        "  \"Company\": \"FASHION ITEMS INC\",\n",
        "  \"Client Address\": \"108 Waldorf Street, Coventry, 25448 IL\",\n",
        "  \"Company Address\": \"211 Arrow Bay, Westminster, 21656 Los Angeles\",\n",
        "  \"Email\": \"info@fashionitems.com\",\n",
        "  \"Phone\": \"(555) 1234 56789\",\n",
        "  \"Shipping Method\": \"Courier\",\n",
        "  \"Tracking Number\": \"1222052520000680\",\n",
        "  \"Shipping Company\": \"FedEx\",\n",
        "  \"Payment Type\": \"Credit Card\",\n",
        "  \"Arrival Date\": \"29/09/2022\",\n",
        "  \"Discount\": \"10%\",\n",
        "  \"Taxes\": \"10%\",\n",
        "  \"Shipping\": 75,\n",
        "  \"Total\": 3604.35,\n",
        "  \"Notes\": \"The amount of the Purchase Order is the agreed fixed price and shall not be exceeded without advanced written consent.\",\n",
        "  \"List Items\": [\n",
        "    {\n",
        "      \"Product\": \"Waterproof French overcoat\",\n",
        "      \"Item #\": \"99881052\",\n",
        "      \"Qty\": 1,\n",
        "      \"Size\": \"M\",\n",
        "      \"Color\": \"BLACK\",\n",
        "      \"Total\": 995\n",
        "    },\n",
        "    {\n",
        "      \"Product\": \"Signature perfume\",\n",
        "      \"Item #\": \"99885688\",\n",
        "      \"Qty\": 2,\n",
        "      \"Size\": \"*\",\n",
        "      \"Color\": \"*\",\n",
        "      \"Total\": 410\n",
        "    },\n",
        "    {\n",
        "      \"Product\": \"Classic blazer \\\"mindsweeper\\\"\",\n",
        "      \"Item #\": \"99884899\",\n",
        "      \"Qty\": 1,\n",
        "      \"Size\": \"L\",\n",
        "      \"Color\": \"RED/BLACK\",\n",
        "      \"Total\": 1080\n",
        "    },\n",
        "    {\n",
        "      \"Product\": \"Poshmark black dress\",\n",
        "      \"Item #\": \"99880052\",\n",
        "      \"Qty\": 1,\n",
        "      \"Size\": \"M\",\n",
        "      \"Color\": \"BLACK\",\n",
        "      \"Total\": 1080\n",
        "    }\n",
        "  ]\n",
        "}\n"
      ],
      "outputs": []
    },
    {
      "id": "5c0d9157",
      "cell_type": "code",
      "metadata": {
        "id": "5c0d9157"
      },
      "execution_count": null,
      "source": [
        "json2 = {\n",
        "  \"PO Number\": \"8365234\",\n",
        "  \"PO Date\": \"mm/dd/yyyy\",\n",
        "  \"Vendor\": \"ABC Office Supplies\",\n",
        "  \"Vendor Address\": \"1667 K Street NW, Washington DC 2006\",\n",
        "  \"Vendor Contact\": \"(203) 743-8993\",\n",
        "  \"Customer\": \"Franklin Middle School\",\n",
        "  \"Customer Address\": \"Washington DC, USA\",\n",
        "  \"Customer Contact\": \"(203) 334-7234\",\n",
        "  \"Sales Person\": \"John Smith\",\n",
        "  \"Contact Person\": \"Helen Wilson / Purchasing Department\",\n",
        "  \"Discount (%)\": 5,\n",
        "  \"Taxes (%)\": 12,\n",
        "  \"Total\": 338.12,\n",
        "  \"Notes\": \"Payment shall be 30 days upon delivery of the above items.\",\n",
        "  \"List Items\": [\n",
        "    {\"Item No.\": \"1\", \"Description\": \"Pencils HB\", \"Unit\": \"Dozen\", \"Qty\": 5, \"Unit Price\": 10, \"Total\": 50},\n",
        "    {\"Item No.\": \"2\", \"Description\": \"Pencils 2B\", \"Unit\": \"Dozen\", \"Qty\": 4, \"Unit Price\": 10, \"Total\": 40},\n",
        "    {\"Item No.\": \"3\", \"Description\": \"Paper - A4, Photo copier, 70 gram\", \"Unit\": \"Ream\", \"Qty\": 10, \"Unit Price\": 3, \"Total\": 30},\n",
        "    {\"Item No.\": \"4\", \"Description\": \"Paper - A4, Photo copier, 80 gram\", \"Unit\": \"Ream\", \"Qty\": 15, \"Unit Price\": 3.20, \"Total\": 48},\n",
        "    {\"Item No.\": \"5\", \"Description\": \"Pen - Ball Point, Blue\", \"Unit\": \"Boxes\", \"Qty\": 10, \"Unit Price\": 10, \"Total\": 100},\n",
        "    {\"Item No.\": \"6\", \"Description\": \"Highlighter - 3 color\", \"Unit\": \"Sets\", \"Qty\": 8, \"Unit Price\": 6, \"Total\": 48}\n",
        "  ]\n",
        "}\n"
      ],
      "outputs": []
    },
    {
      "id": "818d6806",
      "cell_type": "code",
      "metadata": {
        "id": "818d6806"
      },
      "execution_count": null,
      "source": [
        "json3 = {\n",
        "  \"PO Number\": \"0001253\",\n",
        "  \"PO Date\": \"01/01/2022\",\n",
        "  \"Company\": \"CONSTRUCTION MASTERS\",\n",
        "  \"Address\": \"270 Construction Road Drive, Dayton, 25143, OH\",\n",
        "  \"Phone\": \"555-1524-58554\",\n",
        "  \"Website\": \"www.constructionmasters123.com\",\n",
        "  \"Total Services\": 5800,\n",
        "  \"Total Materials\": 33090,\n",
        "  \"Total Cost\": 38890,\n",
        "  \"Tax\": \"10%\",\n",
        "  \"Total with Tax\": 42779,\n",
        "  \"Notes\": \"This Purchase Order is for completing the job as described above. It is based on evaluation of the use of the physical, human, financial, and informational resources required to complete work.\",\n",
        "  \"List Items\": [\n",
        "    {\"Type\": \"Services\", \"Description\": \"1\", \"Qty\": 1, \"Unit Price\": 30, \"Total\": 240},\n",
        "    {\"Type\": \"Services\", \"Description\": \"2\", \"Qty\": 1, \"Unit Price\": 50, \"Total\": 400},\n",
        "    {\"Type\": \"Services\", \"Description\": \"3\", \"Qty\": 6, \"Unit Price\": 25, \"Total\": 1200},\n",
        "    {\"Type\": \"Services\", \"Description\": \"4\", \"Qty\": 4, \"Unit Price\": 20, \"Total\": 640},\n",
        "    {\"Type\": \"Materials\", \"Description\": \"Wood\", \"Qty\": 150, \"Unit Price\": 100, \"Total\": 15000},\n",
        "    {\"Type\": \"Materials\", \"Description\": \"Electrical cables & wiring\", \"Qty\": 100, \"Unit Price\": 2.1, \"Total\": 210},\n",
        "    {\"Type\": \"Materials\", \"Description\": \"Ceramics\", \"Qty\": 100, \"Unit Price\": 10, \"Total\": 1000},\n",
        "    {\"Type\": \"Materials\", \"Description\": \"Cement\", \"Qty\": 600, \"Unit Price\": 5.8, \"Total\": 3480},\n",
        "    {\"Type\": \"Materials\", \"Description\": \"Bricks\", \"Qty\": 5000, \"Unit Price\": 1.7, \"Total\": 8500},\n",
        "    {\"Type\": \"Materials\", \"Description\": \"Clay\", \"Qty\": 4, \"Unit Price\": 150, \"Total\": 600},\n",
        "    {\"Type\": \"Materials\", \"Description\": \"Windows\", \"Qty\": 10, \"Unit Price\": 180, \"Total\": 1800},\n",
        "    {\"Type\": \"Materials\", \"Description\": \"Miscellaneous\", \"Qty\": 1, \"Unit Price\": 2500, \"Total\": 2500}\n",
        "  ]\n",
        "}\n"
      ],
      "outputs": []
    },
    {
      "id": "e4c2374c",
      "cell_type": "code",
      "metadata": {
        "colab": {
          "base_uri": "https://localhost:8080/"
        },
        "id": "e4c2374c",
        "outputId": "0aad73cb-640b-4ced-aa73-50f7e7dec52d"
      },
      "execution_count": null,
      "source": [
        "with open(\"PO_1.json\", \"w\") as f1:\n",
        "    json.dump(json1, f1, indent=2)\n",
        "\n",
        "with open(\"PO_2.json\", \"w\") as f2:\n",
        "    json.dump(json2, f2, indent=2)\n",
        "\n",
        "with open(\"PO_3.json\", \"w\") as f3:\n",
        "    json.dump(json3, f3, indent=2)\n",
        "\n",
        "print(\"✅ JSON files saved.\")\n"
      ],
      "outputs": [
        {
          "output_type": "stream",
          "name": "stdout",
          "text": [
            "✅ JSON files saved.\n"
          ]
        }
      ]
    }
  ]
}